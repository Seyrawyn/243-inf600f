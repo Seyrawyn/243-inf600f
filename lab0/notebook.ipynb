{
 "cells": [
  {
   "cell_type": "markdown",
   "metadata": {},
   "source": [
    "### Allo"
   ]
  },
  {
   "cell_type": "code",
   "metadata": {
    "ExecuteTime": {
     "end_time": "2024-09-20T19:08:04.641600Z",
     "start_time": "2024-09-20T19:08:04.163086Z"
    }
   },
   "source": [
    "import numpy as np"
   ],
   "outputs": [],
   "execution_count": 1
  },
  {
   "cell_type": "code",
   "metadata": {
    "ExecuteTime": {
     "end_time": "2024-09-20T19:06:18.859454Z",
     "start_time": "2024-09-20T19:06:18.856898Z"
    }
   },
   "source": [
    "liste = [1, 2, 3, 4, 5]\n",
    "print(liste)\n",
    "\n",
    "liste.append(6)\n",
    "print(liste)\n",
    "\n",
    "print(type(liste))\n",
    "\n",
    "liste = np.array(liste)\n",
    "print(liste)\n",
    "print(type(liste))\n",
    "\n",
    "liste = liste.tolist()\n",
    "print(liste)\n",
    "print(type(liste))"
   ],
   "outputs": [
    {
     "name": "stdout",
     "output_type": "stream",
     "text": [
      "[1, 2, 3, 4, 5]\n",
      "[1, 2, 3, 4, 5, 6]\n",
      "<class 'list'>\n",
      "[1 2 3 4 5 6]\n",
      "<class 'numpy.ndarray'>\n",
      "[1, 2, 3, 4, 5, 6]\n",
      "<class 'list'>\n"
     ]
    }
   ],
   "execution_count": 10
  },
  {
   "cell_type": "code",
   "metadata": {
    "ExecuteTime": {
     "end_time": "2024-09-20T19:06:18.871202Z",
     "start_time": "2024-09-20T19:06:18.868992Z"
    }
   },
   "source": [
    "def fontion_magique(liste: list[int], index: int, new_value: int) -> None:\n",
    "    liste[index] = new_value\n",
    "\n",
    "fontion_magique(liste, 2, 42)\n",
    "print(liste)"
   ],
   "outputs": [
    {
     "name": "stdout",
     "output_type": "stream",
     "text": [
      "[1, 2, 42, 4, 5, 6]\n"
     ]
    }
   ],
   "execution_count": 11
  },
  {
   "cell_type": "code",
   "metadata": {
    "ExecuteTime": {
     "end_time": "2024-09-20T19:06:18.905073Z",
     "start_time": "2024-09-20T19:06:18.902748Z"
    }
   },
   "source": [
    "from src.projet.main import Calculator\n",
    "\n",
    "calc = Calculator()\n",
    "print(calc.add(1, 2))\n",
    "print(calc.sub(1, 2))"
   ],
   "outputs": [
    {
     "name": "stdout",
     "output_type": "stream",
     "text": [
      "3\n",
      "-1\n"
     ]
    }
   ],
   "execution_count": 12
  },
  {
   "cell_type": "code",
   "metadata": {
    "ExecuteTime": {
     "end_time": "2024-09-20T19:06:18.928922Z",
     "start_time": "2024-09-20T19:06:18.926514Z"
    }
   },
   "source": [
    "from src.projet.main import Person\n",
    "\n",
    "p = Person(\"John\", 3)\n",
    "print(p.name)\n",
    "print(p.age)\n",
    "\n",
    "p2 = Person(\"Jane\", 4)\n",
    "print(p2.get_name())\n",
    "print(p2.age)\n",
    "\n",
    "print(Person.fn_statique())\n"
   ],
   "outputs": [
    {
     "name": "stdout",
     "output_type": "stream",
     "text": [
      "John\n",
      "3\n",
      "Jane\n",
      "4\n",
      "Je suis une fonction statique\n"
     ]
    }
   ],
   "execution_count": 13
  }
 ],
 "metadata": {
  "kernelspec": {
   "display_name": "geo",
   "language": "python",
   "name": "python3"
  },
  "language_info": {
   "codemirror_mode": {
    "name": "ipython",
    "version": 3
   },
   "file_extension": ".py",
   "mimetype": "text/x-python",
   "name": "python",
   "nbconvert_exporter": "python",
   "pygments_lexer": "ipython3",
   "version": "3.10.13"
  }
 },
 "nbformat": 4,
 "nbformat_minor": 2
}
