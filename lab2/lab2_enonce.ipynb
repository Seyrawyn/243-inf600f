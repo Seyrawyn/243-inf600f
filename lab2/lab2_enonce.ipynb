{
 "cells": [
  {
   "cell_type": "markdown",
   "metadata": {},
   "source": [
    "# Lab 2\n",
    "Le domaine spatiale"
   ]
  },
  {
   "metadata": {},
   "cell_type": "code",
   "outputs": [],
   "execution_count": null,
   "source": [
    "import math\n",
    "\n",
    "import numpy as np\n",
    "import matplotlib.pyplot as plt\n",
    "from skimage import data\n",
    "from skimage import color\n",
    "from scipy import signal\n",
    "import random"
   ]
  },
  {
   "metadata": {},
   "cell_type": "markdown",
   "source": [
    "## Exercice 1\n",
    "Créer un filtre 5x5 linéaire avec les distances Tchebychev à partir du centre.\n",
    "\n",
    "<img src=\"distance tchebychev.PNG\"\n",
    "     alt=\"Error can't fetch img\"\n",
    "     style=\"float: left\" />\n",
    "     \n",
    "> Défi: À l'aide de numpy,  \n",
    "> faite le en moins de 4 lignes\n",
    "\n",
    "> Indices:  \n",
    "> \\- `np.full()`  \n",
    "> \\- `np.ones()`  \n",
    "> \\- `np.zeros()`  \n",
    "> \\- les *slices*"
   ]
  },
  {
   "metadata": {},
   "cell_type": "code",
   "outputs": [],
   "execution_count": null,
   "source": [
    "tchebychev = [[max(abs(i - 2), abs(j - 2)) for j in range(5)] for i in range(5)]\n",
    "tchebychev = np.array(tchebychev)\n",
    "print(tchebychev)"
   ]
  },
  {
   "metadata": {},
   "cell_type": "markdown",
   "source": [
    "## Exercice 2\n",
    "Créer un histogramme des intensités dans le filtre au premier exercice.\n",
    "> Utiliser `ndarray.flatten()` et `plt.hist()`\n",
    "\n",
    "> Défi: Ajouter un titre et des *labels* sur les axes."
   ]
  },
  {
   "metadata": {},
   "cell_type": "code",
   "outputs": [],
   "execution_count": null,
   "source": [
    "tchebychev_hist = tchebychev.flatten()\n",
    "tchebychev_hist = plt.hist(tchebychev_hist, bins=3)\n",
    "plt.show()"
   ]
  },
  {
   "metadata": {},
   "cell_type": "markdown",
   "source": [
    "## Exercice 3\n",
    "Créer un filtre linéaire 5x5 avec les distances Euclidienne à partir du centre.\n",
    "\n",
    "<img src=\"distance euclidienne.PNG\"\n",
    "     alt=\"Error can't fetch img\"\n",
    "     style=\"float: left\" />"
   ]
  },
  {
   "metadata": {},
   "cell_type": "code",
   "outputs": [],
   "execution_count": null,
   "source": [
    "eucli = np.full((5, 5), -1, dtype=float)\n",
    "\n",
    "middle_x = eucli.shape[0] // 2\n",
    "middle_y = eucli.shape[1] // 2\n",
    "\n",
    "for i in range(eucli.shape[0]):\n",
    "    for j in range(eucli.shape[1]):\n",
    "        eucli[i, j] = math.sqrt((middle_x - i)**2 + (middle_y - j)**2)\n",
    "\n",
    "print(eucli)\n",
    "plt.imshow(eucli, cmap='gray')\n",
    "plt.show()"
   ]
  },
  {
   "metadata": {},
   "cell_type": "markdown",
   "source": [
    "## Exercice 4\n",
    "Inversé l'intensité des pixels dans le filtre euclidien au numéro précédent.\n",
    "\n",
    "> Le résultat ressemble à un filtre Gaussien"
   ]
  },
  {
   "metadata": {},
   "cell_type": "code",
   "outputs": [],
   "execution_count": null,
   "source": [
    "eucli_flatten = eucli.flatten()\n",
    "val_min = eucli_flatten.min()\n",
    "val_max = eucli_flatten.max()\n",
    "\n",
    "eucli_inv = (val_max - eucli_flatten + val_min) / (val_max - val_min)\n",
    "eucli_inv = eucli_inv.reshape(eucli.shape)\n",
    "\n",
    "plt.imshow(eucli_inv, cmap='gray')\n",
    "plt.show()\n"
   ]
  },
  {
   "metadata": {},
   "cell_type": "markdown",
   "source": [
    "## Exercice 5\n",
    "Qu'elle est la différence entre l'application d'une convolution versus une corrélation?"
   ]
  },
  {
   "metadata": {},
   "cell_type": "code",
   "outputs": [],
   "execution_count": null,
   "source": [
    "# Pour tester\n",
    "\n",
    "img = color.rgb2gray(data.astronaut())\n",
    "kernel = np.array([[1, 0, 0], [0, 0, 0], [0, 0, 0]])\n",
    "\n",
    "convolved_image = img.copy()\n",
    "correlated_image = img.copy()\n",
    "\n",
    "for i in range(10):\n",
    "    convolved_image = signal.convolve2d(convolved_image, kernel, mode='same')\n",
    "    correlated_image = signal.correlate2d(correlated_image, kernel, mode='same')\n",
    "\n",
    "diff = abs(convolved_image - correlated_image)\n",
    "\n",
    "plt.imshow(img, cmap='gray')\n",
    "plt.imshow(convolved_image, cmap='gray', alpha=0.5)\n",
    "plt.imshow(correlated_image, cmap='gray', alpha=0.5)\n",
    "plt.imshow(diff, cmap='gray')\n",
    "plt.show()\n"
   ]
  },
  {
   "metadata": {},
   "cell_type": "markdown",
   "source": [
    "## Exercice 6\n",
    "Implémenter et appliquer un filtre médian afin de restorer l'image dans `img`.\n",
    "> Compléter les sections TODO"
   ]
  },
  {
   "metadata": {},
   "cell_type": "code",
   "outputs": [],
   "execution_count": null,
   "source": [
    "# Add salt and pepper noise\n",
    "plt.figure(figsize=(15,15))\n",
    "\n",
    "plt.subplot(131)\n",
    "plt.title('Image de base', fontsize=15)\n",
    "\n",
    "# Get image\n",
    "img = color.rgb2gray(data.astronaut())\n",
    "\n",
    "plt.imshow(img, cmap='gray')\n",
    "\n",
    "plt.subplot(132)\n",
    "plt.title('Image bruité (Salt n Pepper)', fontsize=15)\n",
    "\n",
    "# Add salt n pepper noise to img\n",
    "nb_pixel = img.shape[0] * img.shape[1]\n",
    "noise_p = 0.025\n",
    "\n",
    "# salt\n",
    "for i in range(round(nb_pixel * noise_p)):\n",
    "    x = random.randint(0, img.shape[0]-1)\n",
    "    y = random.randint(0, img.shape[1]-1)\n",
    "    img[x, y] = 1\n",
    "\n",
    "# pepper\n",
    "for i in range(round(nb_pixel * noise_p)):\n",
    "    x = random.randint(0, img.shape[0]-1)\n",
    "    y = random.randint(0, img.shape[1]-1)\n",
    "    img[x, y] = 0\n",
    "\n",
    "plt.imshow(img, cmap='gray')\n",
    "\n",
    "plt.subplot(133)\n",
    "plt.title('Image débruité (filtre médian)', fontsize=15)\n",
    "\n",
    "# Padding\n",
    "padding = ... #TODO\n",
    "\n",
    "# Apply median filter on img using padding\n",
    "# TODO\n",
    "\n",
    "for i in range(1, img.shape[0] - 1):\n",
    "    for j in range(1, img.shape[1] - 1):\n",
    "        # img[i, j] = np.median(img[i-1:i+2, j-1:j+2])\n",
    "        noyau = img[i-1:i+2, j-1:j+2]\n",
    "        noyau = np.sort(noyau.flatten())\n",
    "        img[i, j] = noyau[4]\n",
    "\n",
    "\n",
    "plt.imshow(img, cmap='gray')\n",
    "\n",
    "plt.show()"
   ]
  },
  {
   "cell_type": "markdown",
   "metadata": {},
   "source": [
    "## Exercice 7\n",
    "Quiz sur différent résultat de convolution?"
   ]
  },
  {
   "cell_type": "code",
   "metadata": {
    "ExecuteTime": {
     "end_time": "2024-09-20T19:22:59.655457Z",
     "start_time": "2024-09-20T18:22:15.576605Z"
    }
   },
   "source": [
    "..."
   ],
   "outputs": [
    {
     "data": {
      "text/plain": [
       "Ellipsis"
      ]
     },
     "execution_count": 36,
     "metadata": {},
     "output_type": "execute_result"
    }
   ],
   "execution_count": 36
  },
  {
   "cell_type": "markdown",
   "metadata": {},
   "source": [
    "## Extra\n",
    "Pour ceux qui on de la misère à comprendre comment et pourquoi faire de l'égalisation d'histogramme:\n",
    "- [Comment: vidéo youtube](https://www.youtube.com/watch?v=PD5d7EKYLcA)\n",
    "- [Exemple/Pourquoi: notebook sur Github](https://github.com/MubashirullahD/diplab06/blob/master/Histogram%20Equalization.ipynb)"
   ]
  }
 ],
 "metadata": {
  "kernelspec": {
   "display_name": "Python 3",
   "language": "python",
   "name": "python3"
  },
  "language_info": {
   "codemirror_mode": {
    "name": "ipython",
    "version": 3
   },
   "file_extension": ".py",
   "mimetype": "text/x-python",
   "name": "python",
   "nbconvert_exporter": "python",
   "pygments_lexer": "ipython3",
   "version": "3.8.3"
  }
 },
 "nbformat": 4,
 "nbformat_minor": 4
}
